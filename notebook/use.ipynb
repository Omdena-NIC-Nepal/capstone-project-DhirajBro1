{
 "cells": [
  {
   "cell_type": "code",
   "execution_count": 12,
   "id": "967c587f",
   "metadata": {},
   "outputs": [],
   "source": [
    "import pandas as pd\n",
    "df=pd.read_csv('../data/processed_data/processed_extreme_weather_events.csv')\n",
    "df['start_date']=pd.to_datetime(df['start_date'])\n",
    "start_year = df['start_date'].min().year\n",
    "df.to_csv('../data/processed_data/processed_extreme_weather_events.csv')\n"
   ]
  },
  {
   "cell_type": "code",
   "execution_count": 2,
   "id": "c803a37d",
   "metadata": {},
   "outputs": [],
   "source": [
    "import pandas as pd\n",
    "df1=pd.read_csv('../data/processed_data/dailyclimate.csv')\n",
    "df1['Date']=pd.to_datetime(df1['Date'])\n",
    "df1['Year']=df1['Date'].dt.year\n",
    "df1['Month']=df1['Date'].dt.month\n",
    "df1['Day']=df1['Date'].dt.day\n",
    "df1.to_csv('../data/processed_data/dailyclimate.csv')"
   ]
  },
  {
   "cell_type": "code",
   "execution_count": 9,
   "id": "6da7d341",
   "metadata": {},
   "outputs": [
    {
     "name": "stdout",
     "output_type": "stream",
     "text": [
      "Index(['DCD_x', 'VCD_x', 'VNM_x', 'DNM', 'DIST_x', 'VDCMUN_x', 'VNAME_CBS_x',\n",
      "       'LINKID_x', 'DDVVV_x', 'CEMENT_RCC_x', 'DRINK_WATE_x', 'TOILET_x',\n",
      "       'INFORMATIO_x', 'TRANSPORT_x', 'SLC___EQUI_x', 'POPULATION_x',\n",
      "       'SEX_RATIO_x', 'POP_ABROAD_x', 'TOTAL_DEP__x', 'CHILD_WOMA_x',\n",
      "       'ROAD_DEN_x', 'HEALTH_FAC_x', 'FLOOD_FREQ_x', 'HAND_DEN_x', 'RIV_DEN_x',\n",
      "       'FOREST_DEN_x', 'geometry', 'DCD_y', 'VCD_y', 'VNM_y', 'DIST_y',\n",
      "       'VDCMUN_y', 'VNAME_CBS_y', 'LINKID_y', 'DDVVV_y', 'CEMENT_RCC_y',\n",
      "       'DRINK_WATE_y', 'TOILET_y', 'INFORMATIO_y', 'TRANSPORT_y',\n",
      "       'SLC___EQUI_y', 'POPULATION_y', 'SEX_RATIO_y', 'POP_ABROAD_y',\n",
      "       'TOTAL_DEP__y', 'CHILD_WOMA_y', 'ROAD_DEN_y', 'HEALTH_FAC_y',\n",
      "       'FLOOD_FREQ_y', 'HAND_DEN_y', 'RIV_DEN_y', 'FOREST_DEN_y'],\n",
      "      dtype='object')\n"
     ]
    }
   ],
   "source": [
    "\n",
    "import pandas as pd\n",
    "import geopandas as gpd\n",
    "\n",
    "\n",
    "\n",
    "\n",
    "# Load data\n",
    "vul_df = pd.read_csv('../data/processed_data/flood_data.csv')\n",
    "geo_df = gpd.read_file('../data/processed_data/flood_data.geojson')\n",
    "\n",
    "# Merge GeoDataFrame with vulnerability data\n",
    "merged = geo_df.merge(vul_df, left_on=\"DNM\", right_on=\"DNM\")\n",
    "print(merged.columns)"
   ]
  }
 ],
 "metadata": {
  "kernelspec": {
   "display_name": "Python 3",
   "language": "python",
   "name": "python3"
  },
  "language_info": {
   "codemirror_mode": {
    "name": "ipython",
    "version": 3
   },
   "file_extension": ".py",
   "mimetype": "text/x-python",
   "name": "python",
   "nbconvert_exporter": "python",
   "pygments_lexer": "ipython3",
   "version": "3.13.1"
  }
 },
 "nbformat": 4,
 "nbformat_minor": 5
}
