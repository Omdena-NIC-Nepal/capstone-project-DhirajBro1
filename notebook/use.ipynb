{
 "cells": [
  {
   "cell_type": "code",
   "execution_count": 12,
   "id": "967c587f",
   "metadata": {},
   "outputs": [],
   "source": [
    "import pandas as pd\n",
    "df=pd.read_csv('../data/processed_data/processed_extreme_weather_events.csv')\n",
    "df['start_date']=pd.to_datetime(df['start_date'])\n",
    "start_year = df['start_date'].min().year\n",
    "df.to_csv('../data/processed_data/processed_extreme_weather_events.csv')\n"
   ]
  },
  {
   "cell_type": "code",
   "execution_count": 2,
   "id": "c803a37d",
   "metadata": {},
   "outputs": [],
   "source": [
    "import pandas as pd\n",
    "df1=pd.read_csv('../data/processed_data/dailyclimate.csv')\n",
    "df1['Date']=pd.to_datetime(df1['Date'])\n",
    "df1['Year']=df1['Date'].dt.year\n",
    "df1['Month']=df1['Date'].dt.month\n",
    "df1['Day']=df1['Date'].dt.day\n",
    "df1.to_csv('../data/processed_data/dailyclimate.csv')"
   ]
  },
  {
   "cell_type": "code",
   "execution_count": 6,
   "id": "3c992254",
   "metadata": {},
   "outputs": [
    {
     "name": "stdout",
     "output_type": "stream",
     "text": [
      "Defaulting to user installation because normal site-packages is not writeable"
     ]
    },
    {
     "name": "stderr",
     "output_type": "stream",
     "text": [
      "\n",
      "[notice] A new release of pip is available: 24.2 -> 25.1\n",
      "[notice] To update, run: C:\\Program Files\\Python312\\python.exe -m pip install --upgrade pip\n"
     ]
    },
    {
     "name": "stdout",
     "output_type": "stream",
     "text": [
      "\n",
      "Requirement already satisfied: streamlit in c:\\users\\shyam pandit\\appdata\\roaming\\python\\python312\\site-packages (1.44.1)\n",
      "Requirement already satisfied: altair<6,>=4.0 in c:\\users\\shyam pandit\\appdata\\roaming\\python\\python312\\site-packages (from streamlit) (5.5.0)\n",
      "Requirement already satisfied: blinker<2,>=1.0.0 in c:\\users\\shyam pandit\\appdata\\roaming\\python\\python312\\site-packages (from streamlit) (1.9.0)\n",
      "Requirement already satisfied: cachetools<6,>=4.0 in c:\\users\\shyam pandit\\appdata\\roaming\\python\\python312\\site-packages (from streamlit) (5.5.2)\n",
      "Requirement already satisfied: click<9,>=7.0 in c:\\users\\shyam pandit\\appdata\\roaming\\python\\python312\\site-packages (from streamlit) (8.1.8)\n",
      "Requirement already satisfied: numpy<3,>=1.23 in c:\\users\\shyam pandit\\appdata\\roaming\\python\\python312\\site-packages (from streamlit) (2.2.5)\n",
      "Requirement already satisfied: packaging<25,>=20 in c:\\users\\shyam pandit\\appdata\\roaming\\python\\python312\\site-packages (from streamlit) (24.2)\n",
      "Requirement already satisfied: pandas<3,>=1.4.0 in c:\\users\\shyam pandit\\appdata\\roaming\\python\\python312\\site-packages (from streamlit) (2.2.3)\n",
      "Requirement already satisfied: pillow<12,>=7.1.0 in c:\\users\\shyam pandit\\appdata\\roaming\\python\\python312\\site-packages (from streamlit) (11.2.1)\n",
      "Requirement already satisfied: protobuf<6,>=3.20 in c:\\users\\shyam pandit\\appdata\\roaming\\python\\python312\\site-packages (from streamlit) (5.29.4)\n",
      "Requirement already satisfied: pyarrow>=7.0 in c:\\users\\shyam pandit\\appdata\\roaming\\python\\python312\\site-packages (from streamlit) (20.0.0)\n",
      "Requirement already satisfied: requests<3,>=2.27 in c:\\users\\shyam pandit\\appdata\\roaming\\python\\python312\\site-packages (from streamlit) (2.32.3)\n",
      "Requirement already satisfied: tenacity<10,>=8.1.0 in c:\\users\\shyam pandit\\appdata\\roaming\\python\\python312\\site-packages (from streamlit) (9.1.2)\n",
      "Requirement already satisfied: toml<2,>=0.10.1 in c:\\users\\shyam pandit\\appdata\\roaming\\python\\python312\\site-packages (from streamlit) (0.10.2)\n",
      "Requirement already satisfied: typing-extensions<5,>=4.4.0 in c:\\users\\shyam pandit\\appdata\\roaming\\python\\python312\\site-packages (from streamlit) (4.13.2)\n",
      "Requirement already satisfied: watchdog<7,>=2.1.5 in c:\\users\\shyam pandit\\appdata\\roaming\\python\\python312\\site-packages (from streamlit) (6.0.0)\n",
      "Requirement already satisfied: gitpython!=3.1.19,<4,>=3.0.7 in c:\\users\\shyam pandit\\appdata\\roaming\\python\\python312\\site-packages (from streamlit) (3.1.44)\n",
      "Requirement already satisfied: pydeck<1,>=0.8.0b4 in c:\\users\\shyam pandit\\appdata\\roaming\\python\\python312\\site-packages (from streamlit) (0.9.1)\n",
      "Requirement already satisfied: tornado<7,>=6.0.3 in c:\\users\\shyam pandit\\appdata\\roaming\\python\\python312\\site-packages (from streamlit) (6.4.2)\n",
      "Requirement already satisfied: jinja2 in c:\\users\\shyam pandit\\appdata\\roaming\\python\\python312\\site-packages (from altair<6,>=4.0->streamlit) (3.1.6)\n",
      "Requirement already satisfied: jsonschema>=3.0 in c:\\users\\shyam pandit\\appdata\\roaming\\python\\python312\\site-packages (from altair<6,>=4.0->streamlit) (4.23.0)\n",
      "Requirement already satisfied: narwhals>=1.14.2 in c:\\users\\shyam pandit\\appdata\\roaming\\python\\python312\\site-packages (from altair<6,>=4.0->streamlit) (1.37.0)\n",
      "Requirement already satisfied: colorama in c:\\users\\shyam pandit\\appdata\\roaming\\python\\python312\\site-packages (from click<9,>=7.0->streamlit) (0.4.6)\n",
      "Requirement already satisfied: gitdb<5,>=4.0.1 in c:\\users\\shyam pandit\\appdata\\roaming\\python\\python312\\site-packages (from gitpython!=3.1.19,<4,>=3.0.7->streamlit) (4.0.12)\n",
      "Requirement already satisfied: python-dateutil>=2.8.2 in c:\\users\\shyam pandit\\appdata\\roaming\\python\\python312\\site-packages (from pandas<3,>=1.4.0->streamlit) (2.9.0.post0)\n",
      "Requirement already satisfied: pytz>=2020.1 in c:\\users\\shyam pandit\\appdata\\roaming\\python\\python312\\site-packages (from pandas<3,>=1.4.0->streamlit) (2025.2)\n",
      "Requirement already satisfied: tzdata>=2022.7 in c:\\users\\shyam pandit\\appdata\\roaming\\python\\python312\\site-packages (from pandas<3,>=1.4.0->streamlit) (2025.2)\n",
      "Requirement already satisfied: charset-normalizer<4,>=2 in c:\\users\\shyam pandit\\appdata\\roaming\\python\\python312\\site-packages (from requests<3,>=2.27->streamlit) (3.4.1)\n",
      "Requirement already satisfied: idna<4,>=2.5 in c:\\users\\shyam pandit\\appdata\\roaming\\python\\python312\\site-packages (from requests<3,>=2.27->streamlit) (3.10)\n",
      "Requirement already satisfied: urllib3<3,>=1.21.1 in c:\\users\\shyam pandit\\appdata\\roaming\\python\\python312\\site-packages (from requests<3,>=2.27->streamlit) (2.4.0)\n",
      "Requirement already satisfied: certifi>=2017.4.17 in c:\\users\\shyam pandit\\appdata\\roaming\\python\\python312\\site-packages (from requests<3,>=2.27->streamlit) (2025.4.26)\n",
      "Requirement already satisfied: smmap<6,>=3.0.1 in c:\\users\\shyam pandit\\appdata\\roaming\\python\\python312\\site-packages (from gitdb<5,>=4.0.1->gitpython!=3.1.19,<4,>=3.0.7->streamlit) (5.0.2)\n",
      "Requirement already satisfied: MarkupSafe>=2.0 in c:\\users\\shyam pandit\\appdata\\roaming\\python\\python312\\site-packages (from jinja2->altair<6,>=4.0->streamlit) (3.0.2)\n",
      "Requirement already satisfied: attrs>=22.2.0 in c:\\users\\shyam pandit\\appdata\\roaming\\python\\python312\\site-packages (from jsonschema>=3.0->altair<6,>=4.0->streamlit) (25.3.0)\n",
      "Requirement already satisfied: jsonschema-specifications>=2023.03.6 in c:\\users\\shyam pandit\\appdata\\roaming\\python\\python312\\site-packages (from jsonschema>=3.0->altair<6,>=4.0->streamlit) (2025.4.1)\n",
      "Requirement already satisfied: referencing>=0.28.4 in c:\\users\\shyam pandit\\appdata\\roaming\\python\\python312\\site-packages (from jsonschema>=3.0->altair<6,>=4.0->streamlit) (0.36.2)\n",
      "Requirement already satisfied: rpds-py>=0.7.1 in c:\\users\\shyam pandit\\appdata\\roaming\\python\\python312\\site-packages (from jsonschema>=3.0->altair<6,>=4.0->streamlit) (0.24.0)\n",
      "Requirement already satisfied: six>=1.5 in c:\\users\\shyam pandit\\appdata\\roaming\\python\\python312\\site-packages (from python-dateutil>=2.8.2->pandas<3,>=1.4.0->streamlit) (1.17.0)\n"
     ]
    }
   ],
   "source": [
    "!pip install streamlit"
   ]
  },
  {
   "cell_type": "code",
   "execution_count": 9,
   "id": "6da7d341",
   "metadata": {},
   "outputs": [
    {
     "name": "stdout",
     "output_type": "stream",
     "text": [
      "Index(['DCD_x', 'VCD_x', 'VNM_x', 'DNM', 'DIST_x', 'VDCMUN_x', 'VNAME_CBS_x',\n",
      "       'LINKID_x', 'DDVVV_x', 'CEMENT_RCC_x', 'DRINK_WATE_x', 'TOILET_x',\n",
      "       'INFORMATIO_x', 'TRANSPORT_x', 'SLC___EQUI_x', 'POPULATION_x',\n",
      "       'SEX_RATIO_x', 'POP_ABROAD_x', 'TOTAL_DEP__x', 'CHILD_WOMA_x',\n",
      "       'ROAD_DEN_x', 'HEALTH_FAC_x', 'FLOOD_FREQ_x', 'HAND_DEN_x', 'RIV_DEN_x',\n",
      "       'FOREST_DEN_x', 'geometry', 'DCD_y', 'VCD_y', 'VNM_y', 'DIST_y',\n",
      "       'VDCMUN_y', 'VNAME_CBS_y', 'LINKID_y', 'DDVVV_y', 'CEMENT_RCC_y',\n",
      "       'DRINK_WATE_y', 'TOILET_y', 'INFORMATIO_y', 'TRANSPORT_y',\n",
      "       'SLC___EQUI_y', 'POPULATION_y', 'SEX_RATIO_y', 'POP_ABROAD_y',\n",
      "       'TOTAL_DEP__y', 'CHILD_WOMA_y', 'ROAD_DEN_y', 'HEALTH_FAC_y',\n",
      "       'FLOOD_FREQ_y', 'HAND_DEN_y', 'RIV_DEN_y', 'FOREST_DEN_y'],\n",
      "      dtype='object')\n"
     ]
    }
   ],
   "source": [
    "\n",
    "import pandas as pd\n",
    "import geopandas as gpd\n",
    "\n",
    "\n",
    "\n",
    "\n",
    "# Load data\n",
    "vul_df = pd.read_csv('../data/processed_data/flood_data.csv')\n",
    "geo_df = gpd.read_file('../data/processed_data/flood_data.geojson')\n",
    "\n",
    "# Merge GeoDataFrame with vulnerability data\n",
    "merged = geo_df.merge(vul_df, left_on=\"DNM\", right_on=\"DNM\")\n",
    "print(merged.columns)"
   ]
  }
 ],
 "metadata": {
  "kernelspec": {
   "display_name": "Python 3",
   "language": "python",
   "name": "python3"
  },
  "language_info": {
   "codemirror_mode": {
    "name": "ipython",
    "version": 3
   },
   "file_extension": ".py",
   "mimetype": "text/x-python",
   "name": "python",
   "nbconvert_exporter": "python",
   "pygments_lexer": "ipython3",
   "version": "3.13.1"
  }
 },
 "nbformat": 4,
 "nbformat_minor": 5
}
