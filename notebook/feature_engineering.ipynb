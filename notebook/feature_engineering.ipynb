{
 "cells": [
  {
   "cell_type": "markdown",
   "id": "a6b44f99",
   "metadata": {},
   "source": [
    "### Loading datasets\n"
   ]
  },
  {
   "cell_type": "code",
   "execution_count": 12,
   "id": "cefbf0ca",
   "metadata": {},
   "outputs": [
    {
     "name": "stderr",
     "output_type": "stream",
     "text": [
      "c:\\Users\\SHYAM PANDIT\\AppData\\Local\\Programs\\Python\\Python313\\Lib\\site-packages\\pyogrio\\raw.py:198: RuntimeWarning: Several features with id = 1 have been found. Altering it to be unique. This warning will not be emitted anymore for this layer\n",
      "  return ogr_read(\n"
     ]
    }
   ],
   "source": [
    "import pandas as pd\n",
    "import geopandas as gpd\n",
    "\n",
    "# Load CSVs\n",
    "weather_df = pd.read_csv('../processed_data/cleaned_historic_temp_precipitation.csv')\n",
    "era5_df = pd.read_csv('../processed_data/processed_era5.csv')\n",
    "elevation_df = pd.read_csv('../processed_data/district_elevation.csv')\n",
    "lulc_df = pd.read_csv('../processed_data/LULC_Sampled.csv')\n",
    "river_df = pd.read_csv('../processed_data/river_discharge_data_cleaned.csv')\n",
    "extreme_df = pd.read_csv('../processed_data/processed_extreme_weather_events.csv')\n",
    "agriculture_df = pd.read_csv('../processed_data/processed_agriculture_data.csv')\n",
    "flood_df= pd.read_csv('../processed_data/flood_data.csv')\n",
    "glacial_df = pd.read_csv('../processed_data/processed_glacial_lake_data.csv')\n",
    "\n",
    "# Load GeoJSONs\n",
    "flood_gdf = gpd.read_file('../processed_data/flood_data.geojson')\n",
    "glacial_gdf = gpd.read_file('../processed_data/glacial_lakes.geojson')\n",
    "agriculture_gdf = gpd.read_file('../processed_data/processed_agriculture_data.geojson')\n",
    "river_stations_gdf = gpd.read_file('../processed_data/river_discharge_stations.geojson')\n"
   ]
  },
  {
   "cell_type": "code",
   "execution_count": 13,
   "id": "b3e46281",
   "metadata": {},
   "outputs": [],
   "source": [
    "import sys\n",
    "import os\n",
    "\n",
    "\n",
    "sys.path.append(os.path.join(os.getcwd(), '../script'))\n",
    "from feature_engineering import *\n",
    "\n",
    "\n"
   ]
  },
  {
   "cell_type": "code",
   "execution_count": 14,
   "id": "f0616a62",
   "metadata": {},
   "outputs": [
    {
     "data": {
      "text/plain": [
       "(             date  year     month  district       lat       lon   prectot  \\\n",
       " 0      1981-01-31   0.0  0.000000      Bara  0.185714  0.608974 -0.388304   \n",
       " 1      1981-02-28   0.0  0.090909      Bara  0.185714  0.608974 -0.683325   \n",
       " 2      1981-03-31   0.0  0.181818      Bara  0.185714  0.608974 -0.424208   \n",
       " 3      1981-04-30   0.0  0.272727      Bara  0.185714  0.608974 -0.124636   \n",
       " 4      1981-05-31   0.0  0.363636      Bara  0.185714  0.608974  0.643411   \n",
       " ...           ...   ...       ...       ...       ...       ...       ...   \n",
       " 29011         NaN   1.0  0.636364  Udayapur  0.114286  0.807692 -0.651972   \n",
       " 29012         NaN   1.0  0.727273  Udayapur  0.114286  0.807692 -0.596649   \n",
       " 29013         NaN   1.0  0.818182  Udayapur  0.114286  0.807692 -0.694248   \n",
       " 29014         NaN   1.0  0.909091  Udayapur  0.114286  0.807692 -0.696675   \n",
       " 29015         NaN   1.0  1.000000  Udayapur  0.114286  0.807692 -0.693540   \n",
       " \n",
       "              ps      qv2m      rh2m  ...  t2m_lag2  t2m_lag3  prectot_lag1  \\\n",
       " 0      0.912906  0.223866  0.500521  ...       NaN       NaN           NaN   \n",
       " 1      0.906588  0.207160  0.346657  ...       NaN       NaN      0.047566   \n",
       " 2      0.903430  0.250597  0.290696  ...  0.600375       NaN      0.002119   \n",
       " 3      0.894630  0.311695  0.269378  ...  0.669101  0.600375      0.042035   \n",
       " 4      0.888087  0.524582  0.401923  ...  0.754869  0.669101      0.088184   \n",
       " ...         ...       ...       ...  ...       ...       ...           ...   \n",
       " 29011  0.878836  0.935084  0.892133  ...  0.906742  0.888390      0.024492   \n",
       " 29012  0.890343  0.852983  0.911250  ...  0.846255  0.906742      0.006949   \n",
       " 29013  0.899819  0.682100  0.882401  ...  0.839326  0.846255      0.015471   \n",
       " 29014  0.902978  0.501671  0.748117  ...  0.806180  0.839326      0.000436   \n",
       " 29015  0.908845  0.277804  0.608968  ...  0.750375  0.806180      0.000062   \n",
       " \n",
       "        prectot_lag2  prectot_lag3  ws10m_lag1  ws10m_lag2  ws10m_lag3  \\\n",
       " 0               NaN           NaN         NaN         NaN         NaN   \n",
       " 1               NaN           NaN    0.125561         NaN         NaN   \n",
       " 2          0.047566           NaN    0.221973    0.125561         NaN   \n",
       " 3          0.002119      0.047566    0.280269    0.221973    0.125561   \n",
       " 4          0.042035      0.002119    0.286996    0.280269    0.221973   \n",
       " ...             ...           ...         ...         ...         ...   \n",
       " 29011      0.005718      0.004191    0.417040    0.345291    0.327354   \n",
       " 29012      0.024492      0.005718    0.286996    0.417040    0.345291   \n",
       " 29013      0.006949      0.024492    0.228700    0.286996    0.417040   \n",
       " 29014      0.015471      0.006949    0.091928    0.228700    0.286996   \n",
       " 29015      0.000436      0.015471    0.040359    0.091928    0.228700   \n",
       " \n",
       "        avg_neighbor_distance  elevation  \n",
       " 0                        0.0      100.0  \n",
       " 1                        0.0      100.0  \n",
       " 2                        0.0      100.0  \n",
       " 3                        0.0      100.0  \n",
       " 4                        0.0      100.0  \n",
       " ...                      ...        ...  \n",
       " 29011                    0.0     1000.0  \n",
       " 29012                    0.0     1000.0  \n",
       " 29013                    0.0     1000.0  \n",
       " 29014                    0.0     1000.0  \n",
       " 29015                    0.0     1000.0  \n",
       " \n",
       " [29015 rows x 38 columns],\n",
       "    Agriculture  Bareland  Grassland  Shrubland  Built-up  Forest  Waterbody\n",
       " 0       580525    358667      43913      43112     13715    5521       3931,\n",
       "             PC1       PC2       PC3       PC4       PC5\n",
       " 0     -0.502654 -0.374314 -0.787327  0.291643  0.369538\n",
       " 1     -1.235553  0.696637 -0.329592  0.217617  0.267362\n",
       " 2     -1.016737  1.569849 -0.094249  0.240000  0.199382\n",
       " 3     -0.707475  2.153945 -0.229759  0.361896  0.134165\n",
       " 4      0.424648  2.201466 -0.429559  0.338641  0.100869\n",
       " ...         ...       ...       ...       ...       ...\n",
       " 29010 -0.146234  0.679780 -0.284204 -1.947144  0.075171\n",
       " 29011 -0.005698  0.225532 -0.657275 -1.796427  0.113312\n",
       " 29012 -0.119059 -0.548115 -1.603812 -1.279383  0.156770\n",
       " 29013 -0.329544 -0.702444 -1.936783 -0.717498  0.216847\n",
       " 29014 -0.636598 -0.850233 -1.267846 -0.382732  0.325893\n",
       " \n",
       " [29015 rows x 5 columns])"
      ]
     },
     "execution_count": 14,
     "metadata": {},
     "output_type": "execute_result"
    }
   ],
   "source": [
    "    # Step 1\n",
    "    weather_df = create_climate_indices(weather_df)\n",
    "    \n",
    "    # Step 2\n",
    "    weather_df = create_monsoon_indicators(weather_df)\n",
    "    \n",
    "    # Step 3\n",
    "    weather_df = create_lag_features(weather_df, ['t2m', 'prectot', 'ws10m'])\n",
    "    \n",
    "    # Step 4\n",
    "    weather_df = create_spatial_features(weather_df)\n",
    "    \n",
    "    # Step 5\n",
    "    satellite_features = extract_satellite_features(lulc_df)\n",
    "    \n",
    "    # Step 6\n",
    "    weather_df = integrate_geographic_info(weather_df, elevation_df)\n",
    "    \n",
    "    # Step 7import numpy as np\n",
    "\n",
    "# Replace inf, -inf with NaN\n",
    "weather_df.replace([np.inf, -np.inf], np.nan, inplace=True)\n",
    "\n",
    "# Now handle the NaNs (either fill or drop them)\n",
    "weather_df.dropna(subset=['t2m', 'prectot', 'ws10m', 'drought_index', 'heat_stress_index'], inplace=True)\n",
    "\n",
    "    weather_df = normalize_features(weather_df, ['t2m', 'prectot', 'ws10m', 'drought_index', 'heat_stress_index'])\n",
    "    \n",
    "    # Step 8\n",
    "    reduced_weather_df = perform_dimensionality_reduction(weather_df.select_dtypes(include=[np.number]))\n",
    "    \n",
    "    weather_df, satellite_features, reduced_weather_df\n"
   ]
  }
 ],
 "metadata": {
  "kernelspec": {
   "display_name": "Python 3",
   "language": "python",
   "name": "python3"
  },
  "language_info": {
   "codemirror_mode": {
    "name": "ipython",
    "version": 3
   },
   "file_extension": ".py",
   "mimetype": "text/x-python",
   "name": "python",
   "nbconvert_exporter": "python",
   "pygments_lexer": "ipython3",
   "version": "3.13.1"
  }
 },
 "nbformat": 4,
 "nbformat_minor": 5
}
