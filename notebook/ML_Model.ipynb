{
 "cells": [
  {
   "cell_type": "code",
   "execution_count": 1,
   "id": "c2a24bb2",
   "metadata": {},
   "outputs": [
    {
     "name": "stderr",
     "output_type": "stream",
     "text": [
      "c:\\Users\\SHYAM PANDIT\\AppData\\Local\\Programs\\Python\\Python313\\Lib\\site-packages\\pyogrio\\raw.py:198: RuntimeWarning: Several features with id = 1 have been found. Altering it to be unique. This warning will not be emitted anymore for this layer\n",
      "  return ogr_read(\n"
     ]
    }
   ],
   "source": [
    "import pandas as pd\n",
    "import geopandas as gpd\n",
    "\n",
    "# Load CSVs\n",
    "weather_df = pd.read_csv('../processed_data/cleaned_historic_temp_precipitation.csv')\n",
    "era5_df = pd.read_csv('../processed_data/processed_era5.csv')\n",
    "elevation_df = pd.read_csv('../processed_data/district_elevation.csv')\n",
    "lulc_df = pd.read_csv('../processed_data/LULC_Sampled.csv')\n",
    "river_df = pd.read_csv('../processed_data/river_discharge_data_cleaned.csv')\n",
    "extreme_df = pd.read_csv('../processed_data/processed_extreme_weather_events.csv')\n",
    "agriculture_df = pd.read_csv('../processed_data/processed_agriculture_data.csv')\n",
    "flood_df= pd.read_csv('../processed_data/flood_data.csv')\n",
    "glacial_df = pd.read_csv('../processed_data/processed_glacial_lake_data.csv')\n",
    "\n",
    "# Load GeoJSONs\n",
    "flood_gdf = gpd.read_file('../processed_data/flood_data.geojson')\n",
    "glacial_gdf = gpd.read_file('../processed_data/glacial_lakes.geojson')\n",
    "agriculture_gdf = gpd.read_file('../processed_data/processed_agriculture_data.geojson')\n",
    "river_stations_gdf = gpd.read_file('../processed_data/river_discharge_stations.geojson')"
   ]
  },
  {
   "cell_type": "code",
   "execution_count": 2,
   "id": "8e2d60f6",
   "metadata": {},
   "outputs": [],
   "source": [
    "\n",
    "\n",
    "# ---------------------- Example Usage ----------------------\n",
    "\n",
    "# Example to use the functions:\n",
    "# You must load your specific data and define X (features) and y (target)\n",
    "\n",
    "# Example:\n",
    "# data = pd.read_csv('processed_data/processed_extreme_weather_events.csv')\n",
    "# X = data.drop(columns=['extreme_event_target_column'])  # Replace with your actual target\n",
    "# y = data['extreme_event_target_column']\n",
    "\n",
    "# random_forest_classification(X, y)\n",
    "# svm_classification(X, y)\n",
    "# gradient_boosting_classification(X, y)\n",
    "# multiple_linear_regression(X, y)\n",
    "# ridge_regression(X, y)\n",
    "# lasso_regression(X, y)\n",
    "# gradient_boosting_regression(X, y)\n",
    "\n"
   ]
  },
  {
   "cell_type": "code",
   "execution_count": null,
   "id": "b80c336a",
   "metadata": {},
   "outputs": [
    {
     "name": "stdout",
     "output_type": "stream",
     "text": [
      "\n",
      "Multiple Linear Regression Evaluation:\n",
      "RMSE: 38.168379664936836\n",
      "MAE: 26.0651571197043\n",
      "R2 Score: 0.9970030392075875\n",
      "\n",
      "Ridge Regression Evaluation:\n",
      "RMSE: 37.99689842675962\n",
      "MAE: 25.995261087078323\n",
      "R2 Score: 0.9970299079448776\n",
      "\n",
      "Lasso Regression Evaluation:\n",
      "RMSE: 0.27697833593494586\n",
      "MAE: 0.23845925163289414\n",
      "R2 Score: 0.9999998421788449\n",
      "\n",
      "Gradient Boosting Regression Evaluation:\n",
      "RMSE: 196.87880290791725\n",
      "MAE: 121.77890970600897\n",
      "R2 Score: 0.9202608624009676\n"
     ]
    }
   ],
   "source": [
    "import os\n",
    "import sys\n",
    "import pandas as pd\n",
    "sys.path.append(os.path.join(os.getcwd(),'../script'))\n",
    "from ML_model_dev import *\n",
    "from sklearn.linear_model import LinearRegression, Ridge, Lasso\n",
    "\n",
    "X1=river_df.drop(columns=['Norm_1993(m³/s)'])\n",
    "X = X1.select_dtypes(include=[np.number])\n",
    "y=river_df['Raw_1962(m³/s)']\n",
    "\n",
    "\n",
    "multiple_linear_regression(X, y)\n",
    "ridge_regression(X, y)\n",
    "lasso_regression(X, y)  \n",
    "gradient_boosting_regression(X, y)  \n",
    "\n"
   ]
  }
 ],
 "metadata": {
  "kernelspec": {
   "display_name": "Python 3",
   "language": "python",
   "name": "python3"
  },
  "language_info": {
   "codemirror_mode": {
    "name": "ipython",
    "version": 3
   },
   "file_extension": ".py",
   "mimetype": "text/x-python",
   "name": "python",
   "nbconvert_exporter": "python",
   "pygments_lexer": "ipython3",
   "version": "3.13.1"
  }
 },
 "nbformat": 4,
 "nbformat_minor": 5
}
